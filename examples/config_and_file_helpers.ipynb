{
 "cells": [
  {
   "cell_type": "code",
   "execution_count": 8,
   "metadata": {},
   "outputs": [],
   "source": [
    "import os\n",
    "import sys\n",
    "from pathlib import Path\n",
    "\n",
    "from tabular_reusable_assets.utils.config_helper import ConfigYAML\n",
    "from tabular_reusable_assets.utils.file_helper import FileHelper\n",
    "\n",
    "# set directory to rirecotry\n",
    "sys.path.append(Path(\"../\").resolve().as_posix())\n",
    "os.chdir(Path(\"../\").resolve().as_posix())\n"
   ]
  },
  {
   "cell_type": "markdown",
   "metadata": {},
   "source": [
    "# Load yaml from ConfigYAML"
   ]
  },
  {
   "cell_type": "code",
   "execution_count": 20,
   "metadata": {},
   "outputs": [
    {
     "name": "stderr",
     "output_type": "stream",
     "text": [
      "\u001b[32m2024-12-25 16:30:56.817\u001b[0m | \u001b[1mINFO    \u001b[0m | \u001b[36mtabular_reusable_assets.utils.config_helper\u001b[0m:\u001b[36mload\u001b[0m:\u001b[36m55\u001b[0m - \u001b[1mSuccessfully loaded file from `tabular_reusable_assets/config/base/training_config.yaml`.\u001b[0m\n"
     ]
    },
    {
     "data": {
      "text/plain": [
       "{'training_config': {'basepath': 's3a://bucket/',\n",
       "  'pipeline_type': 'score_pipeline/',\n",
       "  'pipeline_identifier': '26072024'}}"
      ]
     },
     "execution_count": 20,
     "metadata": {},
     "output_type": "execute_result"
    }
   ],
   "source": [
    "ConfigYAML.load(Path(\"tabular_reusable_assets/config/base/training_config.yaml\"))"
   ]
  },
  {
   "cell_type": "markdown",
   "metadata": {},
   "source": [
    "# Load yaml with ConfigHelper"
   ]
  },
  {
   "cell_type": "code",
   "execution_count": 16,
   "metadata": {},
   "outputs": [
    {
     "name": "stdout",
     "output_type": "stream",
     "text": [
      "../tabular_reusable_assets\n",
      "├── data/\n",
      "│   ├── output_dir/\n",
      "│   │   ├── config.json\n",
      "│   │   ├── optimizer.pt\n",
      "│   │   ├── pytorch_model.bin\n",
      "│   │   ├── trainer_state.json\n",
      "│   │   └── training_args.bin\n",
      "│   ├── X_train.csv\n",
      "│   ├── X_val.csv\n",
      "│   ├── test.csv\n",
      "│   ├── test_encoded.csv\n",
      "│   ├── train.csv\n",
      "│   ├── y_train.csv\n",
      "│   └── y_val.csv\n",
      "├── examples/\n",
      "├── experiments/\n",
      "├── logs/\n",
      "├── tabular_reusable_assets/\n",
      "├── utils/\n",
      "├── .gitignore\n",
      "├── KS_optimization.ipynb\n",
      "├── __init__.py\n",
      "├── als.py\n",
      "├── design_patterns.py\n",
      "├── eda_dev.py\n",
      "├── huggingface_trainer.py\n",
      "├── huggingface_trainer_callback.py\n",
      "├── huggingface_trainer_utils.py\n",
      "├── huggingface_training_args.py\n",
      "├── learning_notes.md\n",
      "├── notes.md\n",
      "├── pyproject.toml\n",
      "├── test.py\n",
      "├── test2.py\n",
      "├── traceback_dev.ipynb\n",
      "├── woe.py\n",
      "└── xgb_model.joblib\n",
      "Found: {'directories': 2, 'files': 30, 'level': 1}\n"
     ]
    }
   ],
   "source": [
    "# %load_ext autoreload\n",
    "# %autoreload 2\n",
    "\n",
    "FileHelper.print_dir_tree(\"../tabular_reusable_assets\", max_depth=1, max_dir=2)"
   ]
  }
 ],
 "metadata": {
  "kernelspec": {
   "display_name": "learning-env",
   "language": "python",
   "name": "python3"
  },
  "language_info": {
   "codemirror_mode": {
    "name": "ipython",
    "version": 3
   },
   "file_extension": ".py",
   "mimetype": "text/x-python",
   "name": "python",
   "nbconvert_exporter": "python",
   "pygments_lexer": "ipython3",
   "version": "3.12.6"
  }
 },
 "nbformat": 4,
 "nbformat_minor": 2
}
